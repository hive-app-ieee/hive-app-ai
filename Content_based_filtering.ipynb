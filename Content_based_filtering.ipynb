{
 "cells": [
  {
   "cell_type": "markdown",
   "metadata": {},
   "source": [
    "# Preparing Environment"
   ]
  },
  {
   "cell_type": "code",
   "execution_count": 36,
   "metadata": {},
   "outputs": [],
   "source": [
    "import pandas as pd \n",
    "import numpy as np \n",
    "from sklearn.metrics.pairwise import euclidean_distances\n",
    "from sklearn.metrics import root_mean_squared_error\n",
    "\n",
    "import warnings\n",
    "warnings.filterwarnings('ignore')\n"
   ]
  },
  {
   "cell_type": "markdown",
   "metadata": {},
   "source": [
    "# Reading files and checking records' details"
   ]
  },
  {
   "cell_type": "code",
   "execution_count": 3,
   "metadata": {},
   "outputs": [
    {
     "name": "stdout",
     "output_type": "stream",
     "text": [
      "  workspace_id preference_id  rating\n",
      "0           w1         speed       4\n",
      "1           w1         clean       3\n",
      "   user_id preference_id  weight\n",
      "0        1         speed       2\n",
      "1        1         clean       0\n"
     ]
    }
   ],
   "source": [
    "workspace_prefs = pd.read_csv('workspace_preferences.csv')\n",
    "user_prefs = pd.read_csv('user_preferences.csv')\n",
    "\n",
    "print(workspace_prefs.head(2))\n",
    "print(user_prefs.head(2))"
   ]
  },
  {
   "cell_type": "code",
   "execution_count": 4,
   "metadata": {},
   "outputs": [
    {
     "name": "stdout",
     "output_type": "stream",
     "text": [
      "Number of users in user_prefereces: 4269\n",
      "Number of workspaces: 10\n",
      "Number of prefereces: 6\n"
     ]
    }
   ],
   "source": [
    "print(f'Number of users in user_prefereces: {len(user_prefs['user_id'].unique())}')\n",
    "print(f'Number of workspaces: {len(workspace_prefs['workspace_id'].unique())}')\n",
    "print(f'Number of prefereces: {len(user_prefs['preference_id'].unique())}')\n"
   ]
  },
  {
   "cell_type": "markdown",
   "metadata": {},
   "source": [
    "# Pivoting dataframes to compare preferences"
   ]
  },
  {
   "cell_type": "code",
   "execution_count": 5,
   "metadata": {},
   "outputs": [
    {
     "name": "stdout",
     "output_type": "stream",
     "text": [
      "preference_id  calm  capacity  clean  comfortable  service  speed\n",
      "user_id                                                          \n",
      "1               1.0       1.0    0.0          5.0      4.0    2.0\n",
      "2               3.0       5.0    2.0          0.0      2.0    5.0\n",
      "preference_id  calm  capacity  clean  comfortable  service  speed\n",
      "workspace_id                                                     \n",
      "w1              4.0       4.0    3.0          1.0      0.0    4.0\n",
      "w10             2.0       1.0    4.0          3.0      1.0    1.0\n"
     ]
    }
   ],
   "source": [
    "users_df = pd.pivot_table(data=user_prefs, values='weight', index='user_id',columns='preference_id')\n",
    "workspaces_df = pd.pivot_table(data=workspace_prefs, values='rating', index='workspace_id',columns='preference_id')\n",
    "\n",
    "print(users_df.head(2))\n",
    "print(workspaces_df.head(2))"
   ]
  },
  {
   "cell_type": "markdown",
   "metadata": {},
   "source": [
    "# The Recommender\n",
    "Using euclidean distance instead of cosine similarity as it's suitable for numerical data where the magnitude of differences matters."
   ]
  },
  {
   "cell_type": "code",
   "execution_count": 65,
   "metadata": {},
   "outputs": [],
   "source": [
    "def generate_recommendations(user_id):\n",
    "\n",
    "    user_preferences = users_df.loc[user_id]\n",
    "    similarity_scores = 1 - euclidean_distances(workspaces_df, [user_preferences]) # Subtracted from 1 to calculate similarities\n",
    "\n",
    "    top_workspaces = pd.DataFrame({\n",
    "    \"workspace_id\": workspaces_df.index.values.reshape(-1),\n",
    "    \"sim_score\": similarity_scores.reshape(-1)\n",
    "    }).sort_values(by='sim_score',ascending=False)\n",
    "\n",
    "    return top_workspaces, user_preferences\n"
   ]
  },
  {
   "cell_type": "markdown",
   "metadata": {},
   "source": [
    "# Validating Function\n",
    "Using RMSE because it's more interpretable than MSE as it's expressed in the same units as the target variable."
   ]
  },
  {
   "cell_type": "code",
   "execution_count": 155,
   "metadata": {},
   "outputs": [],
   "source": [
    "def validate_recommendations(top_workspaces, user_preferences, n=1):\n",
    "    scores = {}\n",
    "    for i in range(len(top_workspaces)):\n",
    "        ith_recommendation = workspaces_df.loc[top_workspaces.iloc[i,0]]\n",
    "        score = root_mean_squared_error(user_preferences, ith_recommendation)\n",
    "        scores[f'{ith_recommendation.name}'] = round(score,3)\n",
    "    least_n_MSEs = pd.DataFrame(scores, index=np.arange(len(workspaces_df))).iloc[0].sort_values()[0:n]\n",
    "    for i in range(n):\n",
    "        if least_n_MSEs.index[i] == top_workspaces.iloc[i,0]:\n",
    "            print(f'Recommendation number {i+1} is valid')\n",
    "        else:\n",
    "            print(f'Recommendation number {i+1} is NOT valid')"
   ]
  },
  {
   "cell_type": "markdown",
   "metadata": {},
   "source": [
    "# TEST"
   ]
  },
  {
   "cell_type": "code",
   "execution_count": 156,
   "metadata": {},
   "outputs": [],
   "source": [
    "top_workspaces, user_preferences = generate_recommendations(8)"
   ]
  },
  {
   "cell_type": "code",
   "execution_count": 158,
   "metadata": {},
   "outputs": [
    {
     "name": "stdout",
     "output_type": "stream",
     "text": [
      "Recommendation number 1 is valid\n",
      "Recommendation number 2 is valid\n",
      "Recommendation number 3 is valid\n"
     ]
    }
   ],
   "source": [
    "validate_recommendations(top_workspaces, user_preferences,3)"
   ]
  }
 ],
 "metadata": {
  "kernelspec": {
   "display_name": "Python 3",
   "language": "python",
   "name": "python3"
  },
  "language_info": {
   "codemirror_mode": {
    "name": "ipython",
    "version": 3
   },
   "file_extension": ".py",
   "mimetype": "text/x-python",
   "name": "python",
   "nbconvert_exporter": "python",
   "pygments_lexer": "ipython3",
   "version": "3.12.4"
  }
 },
 "nbformat": 4,
 "nbformat_minor": 2
}
